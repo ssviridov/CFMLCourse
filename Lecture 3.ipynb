{
 "cells": [
  {
   "cell_type": "markdown",
   "metadata": {},
   "source": [
    "# Intro to Deep Learning"
   ]
  },
  {
   "cell_type": "markdown",
   "metadata": {},
   "source": [
    "### Run this code to download datasets"
   ]
  },
  {
   "cell_type": "code",
   "execution_count": 4,
   "metadata": {},
   "outputs": [],
   "source": [
    "from torchvision import datasets\n",
    "from sklearn import datasets as sk_datasets"
   ]
  },
  {
   "cell_type": "code",
   "execution_count": 5,
   "metadata": {},
   "outputs": [],
   "source": [
    "# http://scikit-learn.org/stable/auto_examples/linear_model/plot_ols.html\n",
    "diabetes = sk_datasets.load_diabetes()\n",
    "\n",
    "# http://scikit-learn.org/stable/auto_examples/datasets/plot_iris_dataset.html\n",
    "data = sk_datasets.load_iris()\n",
    "\n",
    "# Load MNIST\n",
    "train_set = datasets.MNIST(root='./data', train=True, download=True)\n",
    "test_set  = datasets.MNIST(root='./data', train=False, download=True)"
   ]
  },
  {
   "cell_type": "markdown",
   "metadata": {},
   "source": [
    "### Artificial Neural Networks\n",
    "\n",
    "* Computing systems vaguely inspired by the biological neural networks that constitute animal brains."
   ]
  },
  {
   "cell_type": "markdown",
   "metadata": {},
   "source": [
    "<center><img src=\"img/brain-neural-network.png\" width=\"700\" /></center>"
   ]
  },
  {
   "cell_type": "markdown",
   "metadata": {},
   "source": [
    "* Multilayer perceptron is a universal function approximator, as proven by the universal approximation theorem.\n",
    "\n",
    "<center><img src=\"img/neural-net-extended.png\" width=\"900\" /></center>"
   ]
  },
  {
   "cell_type": "markdown",
   "metadata": {},
   "source": [
    "### Artificial Neural Networks - Backpropagation\n",
    "\n",
    "<center><img src=\"img/neural-network-backpropagation.png\" width=\"800\" /></center>"
   ]
  },
  {
   "cell_type": "markdown",
   "metadata": {},
   "source": [
    "### Neuron. Looks like ...\n",
    "\n",
    "<center><img src=\"img/neuron-linear-regression.png\" width=\"500\" /></center>"
   ]
  },
  {
   "cell_type": "markdown",
   "metadata": {},
   "source": [
    "### Neuron. Looks like ... Linear Regression\n",
    "\n",
    "<center><img src=\"img/neuron-linear-regression.png\" width=\"500\" /></center>\n",
    "\n",
    "<center><img src=\"img/linear-regression-formula.png\" width=\"300\" /></center>"
   ]
  },
  {
   "cell_type": "code",
   "execution_count": 7,
   "metadata": {},
   "outputs": [
    {
     "ename": "SyntaxError",
     "evalue": "invalid syntax (<ipython-input-7-6100a27334c0>, line 3)",
     "output_type": "error",
     "traceback": [
      "\u001b[0;36m  File \u001b[0;32m\"<ipython-input-7-6100a27334c0>\"\u001b[0;36m, line \u001b[0;32m3\u001b[0m\n\u001b[0;31m    <center><img src=\"img/pytorch-logo.jpeg\" width=\"800\" /></center>\u001b[0m\n\u001b[0m    ^\u001b[0m\n\u001b[0;31mSyntaxError\u001b[0m\u001b[0;31m:\u001b[0m invalid syntax\n"
     ]
    }
   ],
   "source": [
    "### PyTorch\n",
    "\n",
    "<center><img src=\"img/pytorch-logo.jpeg\" width=\"800\" /></center>"
   ]
  },
  {
   "cell_type": "markdown",
   "metadata": {},
   "source": [
    "### What is PyTorch?\n",
    "\n",
    "<center><img src=\"img/pytorch-logo.jpeg\" width=\"400\" /></center>\n",
    "\n",
    "* open-source machine learning library written in Python, C++ and CUDA\n",
    "\n",
    "* has NumPy-like interfaces\n",
    "\n",
    "* provides two core features:\n",
    "    * operations with tensors\n",
    "    * automatic differentiation\n",
    "    \n",
    "    \n",
    "* initialy developed at Facebook\n",
    "\n",
    "https://pytorch.org"
   ]
  },
  {
   "cell_type": "markdown",
   "metadata": {},
   "source": [
    "### What are tensors?\n",
    "\n",
    "* Tensors are nothing but multidimensional arrays. \n",
    "\n",
    "<img src=\"img/tensor.jpeg\" width=\"800\">"
   ]
  },
  {
   "cell_type": "markdown",
   "metadata": {},
   "source": [
    "### PyTorch Tensor operations - Vector"
   ]
  },
  {
   "cell_type": "code",
   "execution_count": 8,
   "metadata": {},
   "outputs": [],
   "source": [
    "import torch"
   ]
  },
  {
   "cell_type": "code",
   "execution_count": 9,
   "metadata": {},
   "outputs": [],
   "source": [
    "v = torch.tensor([3.5, 2.6, 7.1])"
   ]
  },
  {
   "cell_type": "code",
   "execution_count": 10,
   "metadata": {},
   "outputs": [
    {
     "data": {
      "text/plain": [
       "tensor([3.5000, 2.6000, 7.1000])"
      ]
     },
     "execution_count": 10,
     "metadata": {},
     "output_type": "execute_result"
    }
   ],
   "source": [
    "v"
   ]
  },
  {
   "cell_type": "code",
   "execution_count": 11,
   "metadata": {},
   "outputs": [
    {
     "data": {
      "text/plain": [
       "torch.Tensor"
      ]
     },
     "execution_count": 11,
     "metadata": {},
     "output_type": "execute_result"
    }
   ],
   "source": [
    "type(v)"
   ]
  },
  {
   "cell_type": "code",
   "execution_count": 12,
   "metadata": {},
   "outputs": [
    {
     "data": {
      "text/plain": [
       "torch.Size([3])"
      ]
     },
     "execution_count": 12,
     "metadata": {},
     "output_type": "execute_result"
    }
   ],
   "source": [
    "v.shape"
   ]
  },
  {
   "cell_type": "markdown",
   "metadata": {},
   "source": [
    "### PyTorch Tensor operations - Matrix"
   ]
  },
  {
   "cell_type": "code",
   "execution_count": 13,
   "metadata": {},
   "outputs": [],
   "source": [
    "m = torch.ones(3, 3)"
   ]
  },
  {
   "cell_type": "code",
   "execution_count": 14,
   "metadata": {},
   "outputs": [
    {
     "data": {
      "text/plain": [
       "tensor([[1., 1., 1.],\n",
       "        [1., 1., 1.],\n",
       "        [1., 1., 1.]])"
      ]
     },
     "execution_count": 14,
     "metadata": {},
     "output_type": "execute_result"
    }
   ],
   "source": [
    "m"
   ]
  },
  {
   "cell_type": "code",
   "execution_count": 15,
   "metadata": {},
   "outputs": [
    {
     "data": {
      "text/plain": [
       "torch.Size([3, 3])"
      ]
     },
     "execution_count": 15,
     "metadata": {},
     "output_type": "execute_result"
    }
   ],
   "source": [
    "m.shape"
   ]
  },
  {
   "cell_type": "markdown",
   "metadata": {},
   "source": [
    "### Multiply matrix by vector"
   ]
  },
  {
   "cell_type": "code",
   "execution_count": 16,
   "metadata": {},
   "outputs": [],
   "source": [
    "m = torch.rand(5, 5)"
   ]
  },
  {
   "cell_type": "code",
   "execution_count": 17,
   "metadata": {},
   "outputs": [
    {
     "data": {
      "text/plain": [
       "tensor([[0.2662, 0.7840, 0.3855, 0.5583, 0.5066],\n",
       "        [0.7246, 0.9543, 0.5668, 0.8214, 0.1528],\n",
       "        [0.7012, 0.5542, 0.2163, 0.1689, 0.3676],\n",
       "        [0.4323, 0.7996, 0.3852, 0.2664, 0.1528],\n",
       "        [0.9244, 0.5548, 0.2488, 0.4934, 0.2180]])"
      ]
     },
     "execution_count": 17,
     "metadata": {},
     "output_type": "execute_result"
    }
   ],
   "source": [
    "m"
   ]
  },
  {
   "cell_type": "code",
   "execution_count": 18,
   "metadata": {},
   "outputs": [],
   "source": [
    "v = torch.rand(5, 1)"
   ]
  },
  {
   "cell_type": "code",
   "execution_count": 19,
   "metadata": {},
   "outputs": [
    {
     "data": {
      "text/plain": [
       "tensor([[0.7220],\n",
       "        [0.6613],\n",
       "        [0.2219],\n",
       "        [0.6917],\n",
       "        [0.6143]])"
      ]
     },
     "execution_count": 19,
     "metadata": {},
     "output_type": "execute_result"
    }
   ],
   "source": [
    "v"
   ]
  },
  {
   "cell_type": "code",
   "execution_count": 20,
   "metadata": {},
   "outputs": [
    {
     "data": {
      "text/plain": [
       "tensor([[0.1922, 0.5661, 0.2783, 0.4031, 0.3658],\n",
       "        [0.4792, 0.6311, 0.3748, 0.5432, 0.1011],\n",
       "        [0.1556, 0.1229, 0.0480, 0.0375, 0.0816],\n",
       "        [0.2990, 0.5531, 0.2665, 0.1843, 0.1057],\n",
       "        [0.5679, 0.3408, 0.1528, 0.3031, 0.1339]])"
      ]
     },
     "execution_count": 20,
     "metadata": {},
     "output_type": "execute_result"
    }
   ],
   "source": [
    "m * v"
   ]
  },
  {
   "cell_type": "markdown",
   "metadata": {},
   "source": [
    "### Converting a PyTorch Tensor to a NumPy Array"
   ]
  },
  {
   "cell_type": "code",
   "execution_count": 21,
   "metadata": {},
   "outputs": [],
   "source": [
    "a = torch.randn(10)"
   ]
  },
  {
   "cell_type": "code",
   "execution_count": 22,
   "metadata": {},
   "outputs": [
    {
     "data": {
      "text/plain": [
       "tensor([ 0.5172, -0.0525, -0.0860, -0.1659,  0.5251, -0.1029,  0.6691, -1.0542,\n",
       "        -0.3302, -1.5430])"
      ]
     },
     "execution_count": 22,
     "metadata": {},
     "output_type": "execute_result"
    }
   ],
   "source": [
    "a"
   ]
  },
  {
   "cell_type": "code",
   "execution_count": 23,
   "metadata": {},
   "outputs": [
    {
     "data": {
      "text/plain": [
       "array([ 0.51716316, -0.05248973, -0.08604019, -0.16589129,  0.52505577,\n",
       "       -0.1029063 ,  0.66913676, -1.0542217 , -0.33019993, -1.5429901 ],\n",
       "      dtype=float32)"
      ]
     },
     "execution_count": 23,
     "metadata": {},
     "output_type": "execute_result"
    }
   ],
   "source": [
    "a.numpy()"
   ]
  },
  {
   "cell_type": "markdown",
   "metadata": {},
   "source": [
    "### Converting NumPy Array to PyTorch Tensor"
   ]
  },
  {
   "cell_type": "code",
   "execution_count": 24,
   "metadata": {},
   "outputs": [],
   "source": [
    "import numpy as np"
   ]
  },
  {
   "cell_type": "code",
   "execution_count": 25,
   "metadata": {},
   "outputs": [
    {
     "data": {
      "text/plain": [
       "array([1., 1., 1., 1., 1., 1., 1.])"
      ]
     },
     "execution_count": 25,
     "metadata": {},
     "output_type": "execute_result"
    }
   ],
   "source": [
    "a = np.ones(7)\n",
    "a"
   ]
  },
  {
   "cell_type": "code",
   "execution_count": 26,
   "metadata": {},
   "outputs": [
    {
     "data": {
      "text/plain": [
       "tensor([1., 1., 1., 1., 1., 1., 1.], dtype=torch.float64)"
      ]
     },
     "execution_count": 26,
     "metadata": {},
     "output_type": "execute_result"
    }
   ],
   "source": [
    "b = torch.from_numpy(a)\n",
    "b"
   ]
  },
  {
   "cell_type": "markdown",
   "metadata": {},
   "source": [
    "### autograd.Variable"
   ]
  },
  {
   "cell_type": "markdown",
   "metadata": {},
   "source": [
    "<center><img src=\"img/autograd-variable.png\" width=\"400\" /></center>"
   ]
  },
  {
   "cell_type": "markdown",
   "metadata": {},
   "source": [
    "* part of **autograd** module of PyTorch\n",
    "* simply a wraper around **torch.Tensor**\n",
    "* are used to build computational graph\n",
    "* automatically accumulate gradient w.r.t. this variable (can be controlled using **requires_grad** parameter)"
   ]
  },
  {
   "cell_type": "markdown",
   "metadata": {},
   "source": [
    "### autograd.Variable"
   ]
  },
  {
   "cell_type": "code",
   "execution_count": 28,
   "metadata": {},
   "outputs": [],
   "source": [
    "from torch.autograd import Variable"
   ]
  },
  {
   "cell_type": "code",
   "execution_count": 29,
   "metadata": {},
   "outputs": [],
   "source": [
    "x = Variable(torch.ones(2, 2), requires_grad=True)"
   ]
  },
  {
   "cell_type": "code",
   "execution_count": 30,
   "metadata": {},
   "outputs": [],
   "source": [
    "y = x + 100"
   ]
  },
  {
   "cell_type": "code",
   "execution_count": 31,
   "metadata": {},
   "outputs": [],
   "source": [
    "z = 2 * (y ** 2)"
   ]
  },
  {
   "cell_type": "code",
   "execution_count": 32,
   "metadata": {},
   "outputs": [
    {
     "data": {
      "text/plain": [
       "tensor([[20402., 20402.],\n",
       "        [20402., 20402.]], grad_fn=<MulBackward>)"
      ]
     },
     "execution_count": 32,
     "metadata": {},
     "output_type": "execute_result"
    }
   ],
   "source": [
    "z"
   ]
  },
  {
   "cell_type": "code",
   "execution_count": 33,
   "metadata": {},
   "outputs": [],
   "source": [
    "out = torch.mean(z)"
   ]
  },
  {
   "cell_type": "code",
   "execution_count": 34,
   "metadata": {},
   "outputs": [
    {
     "data": {
      "text/plain": [
       "tensor(20402., grad_fn=<MeanBackward1>)"
      ]
     },
     "execution_count": 34,
     "metadata": {},
     "output_type": "execute_result"
    }
   ],
   "source": [
    "out"
   ]
  },
  {
   "cell_type": "code",
   "execution_count": 35,
   "metadata": {},
   "outputs": [],
   "source": [
    "# computes the sum of gradients of given tensors w.r.t. graph leaves\n",
    "out.backward()"
   ]
  },
  {
   "cell_type": "code",
   "execution_count": 36,
   "metadata": {},
   "outputs": [
    {
     "data": {
      "text/plain": [
       "tensor([[101., 101.],\n",
       "        [101., 101.]])"
      ]
     },
     "execution_count": 36,
     "metadata": {},
     "output_type": "execute_result"
    }
   ],
   "source": [
    "x.grad"
   ]
  },
  {
   "cell_type": "markdown",
   "metadata": {},
   "source": [
    "### Simple autograd example - Regression"
   ]
  },
  {
   "cell_type": "code",
   "execution_count": 37,
   "metadata": {},
   "outputs": [],
   "source": [
    "x = [1., 2., 3., 4., 5.]"
   ]
  },
  {
   "cell_type": "code",
   "execution_count": 38,
   "metadata": {},
   "outputs": [],
   "source": [
    "y = [10., 20., 30., 40., 50.]"
   ]
  },
  {
   "cell_type": "code",
   "execution_count": 39,
   "metadata": {},
   "outputs": [],
   "source": [
    "w = Variable(torch.tensor([1.]), requires_grad=True)"
   ]
  },
  {
   "cell_type": "markdown",
   "metadata": {},
   "source": [
    "<center><img src=\"img/linear-regression-graph.png\" width=\"600\"></center>"
   ]
  },
  {
   "cell_type": "code",
   "execution_count": 40,
   "metadata": {},
   "outputs": [
    {
     "name": "stdout",
     "output_type": "stream",
     "text": [
      "\t x=1.0, y=10.0, w.grad=-18.0\n",
      "\t x=2.0, y=20.0, w.grad=-70.55999755859375\n",
      "\t x=3.0, y=30.0, w.grad=-146.0592041015625\n",
      "\t x=4.0, y=40.0, w.grad=-212.92185974121094\n",
      "\t x=5.0, y=50.0, w.grad=-226.22947692871094\n",
      "Loss at epoch #1: 511.797760 \n",
      "\n",
      "\t x=1.0, y=10.0, w.grad=-4.524589538574219\n",
      "\t x=2.0, y=20.0, w.grad=-17.73638916015625\n",
      "\t x=3.0, y=30.0, w.grad=-36.71432876586914\n",
      "\t x=4.0, y=40.0, w.grad=-53.521331787109375\n",
      "\t x=5.0, y=50.0, w.grad=-56.866416931152344\n",
      "Loss at epoch #2: 32.337894 \n",
      "\n",
      "\t x=1.0, y=10.0, w.grad=-1.1373271942138672\n",
      "\t x=2.0, y=20.0, w.grad=-4.458320617675781\n",
      "\t x=3.0, y=30.0, w.grad=-9.228721618652344\n",
      "\t x=4.0, y=40.0, w.grad=-13.45343017578125\n",
      "\t x=5.0, y=50.0, w.grad=-14.294281005859375\n",
      "Loss at epoch #3: 2.043265 \n",
      "\n",
      "\t x=1.0, y=10.0, w.grad=-0.2858867645263672\n",
      "\t x=2.0, y=20.0, w.grad=-1.1206741333007812\n",
      "\t x=3.0, y=30.0, w.grad=-2.3197975158691406\n",
      "\t x=4.0, y=40.0, w.grad=-3.381744384765625\n",
      "\t x=5.0, y=50.0, w.grad=-3.5931015014648438\n",
      "Loss at epoch #4: 0.129104 \n",
      "\n",
      "\t x=1.0, y=10.0, w.grad=-0.07186317443847656\n",
      "\t x=2.0, y=20.0, w.grad=-0.28170013427734375\n",
      "\t x=3.0, y=30.0, w.grad=-0.5831222534179688\n",
      "\t x=4.0, y=40.0, w.grad=-0.850067138671875\n",
      "\t x=5.0, y=50.0, w.grad=-0.903167724609375\n",
      "Loss at epoch #5: 0.008157 \n",
      "\n",
      "Final: w = 9.9910\n"
     ]
    }
   ],
   "source": [
    "for epoch in range(5):\n",
    "    \n",
    "    for x_i, y_i in zip(x, y):\n",
    "        \n",
    "        # compute predicted target variable\n",
    "        y_pred = x_i * w\n",
    "                \n",
    "        # compute Mean Squared Error (MSE)\n",
    "        loss = (y_pred - y_i) ** 2\n",
    "        \n",
    "        # compute gradients\n",
    "        loss.backward()\n",
    "        \n",
    "        print('\\t x={x_i}, y={y_i}, w.grad={w.grad[0]}'.format(**locals()))\n",
    "        \n",
    "        # make one step towards the local minima, with learning rate 0.01\n",
    "        w.data -= 0.01 * w.grad.data\n",
    "        \n",
    "        # clear gradients after updating weights\n",
    "        w.grad.data.zero_()\n",
    "        \n",
    "    print('Loss at epoch #%d: %.6f \\n' % (epoch+1, loss.data[0]))\n",
    "\n",
    "print('Final: w = %.4f' % w.data)"
   ]
  },
  {
   "cell_type": "markdown",
   "metadata": {},
   "source": [
    "### Linear Regression using PyTorch"
   ]
  },
  {
   "cell_type": "markdown",
   "metadata": {},
   "source": [
    "The diabetes dataset consists of 10 physiological variables (age, sex,\n",
    "weight, blood pressure) measure on 442 patients, and an indication of\n",
    "disease progression after one year"
   ]
  },
  {
   "cell_type": "markdown",
   "metadata": {},
   "source": [
    "* **Samples total** - 442\n",
    "* **Dimensionality** - 10\n",
    "* **Features** - real, -.2 < x < .2\n",
    "* **Targets** - integer 25 - 346"
   ]
  },
  {
   "cell_type": "markdown",
   "metadata": {},
   "source": [
    "##### Load dataset from scikit-learn"
   ]
  },
  {
   "cell_type": "code",
   "execution_count": 42,
   "metadata": {},
   "outputs": [],
   "source": [
    "diabetes = sk_datasets.load_diabetes()\n",
    "\n",
    "X = diabetes.data[:]\n",
    "y = diabetes.target[:].reshape(-1,1)"
   ]
  },
  {
   "cell_type": "markdown",
   "metadata": {},
   "source": [
    "### Define Neural Network class"
   ]
  },
  {
   "cell_type": "code",
   "execution_count": 44,
   "metadata": {},
   "outputs": [],
   "source": [
    "from torch import nn"
   ]
  },
  {
   "cell_type": "code",
   "execution_count": 45,
   "metadata": {},
   "outputs": [],
   "source": [
    "class LinearRegressionModel(nn.Module):\n",
    "    \"\"\"\n",
    "    Define Linear Regression class\n",
    "    \"\"\"\n",
    "\n",
    "    def __init__(self, input_dim, output_dim):\n",
    "        super(LinearRegressionModel, self).__init__() \n",
    "        self.linear = nn.Linear(input_dim, output_dim)  # neural network with 1 layer\n",
    "\n",
    "    def forward(self, x):\n",
    "        return self.linear(x)"
   ]
  },
  {
   "cell_type": "code",
   "execution_count": 46,
   "metadata": {},
   "outputs": [],
   "source": [
    "model = LinearRegressionModel(10, 1)"
   ]
  },
  {
   "cell_type": "code",
   "execution_count": 47,
   "metadata": {},
   "outputs": [],
   "source": [
    "# define loss functions - Mean Square Error (MSE)\n",
    "\n",
    "criterion = nn.MSELoss() # (y_hat − y)^2"
   ]
  },
  {
   "cell_type": "code",
   "execution_count": 48,
   "metadata": {},
   "outputs": [],
   "source": [
    "# define learning rate\n",
    "\n",
    "lr = 0.5\n",
    "\n",
    "# define parameter optimizer\n",
    "\n",
    "optimizer = torch.optim.SGD(model.parameters(), lr=lr)"
   ]
  },
  {
   "cell_type": "code",
   "execution_count": 49,
   "metadata": {},
   "outputs": [
    {
     "data": {
      "text/plain": [
       "[Parameter containing:\n",
       " tensor([[-0.2051, -0.3131,  0.0053,  0.1127,  0.1622,  0.0708,  0.3011, -0.0027,\n",
       "          -0.2753,  0.1955]], requires_grad=True), Parameter containing:\n",
       " tensor([-0.1929], requires_grad=True)]"
      ]
     },
     "execution_count": 49,
     "metadata": {},
     "output_type": "execute_result"
    }
   ],
   "source": [
    "list(model.parameters())"
   ]
  },
  {
   "cell_type": "markdown",
   "metadata": {},
   "source": [
    "### Main training loop"
   ]
  },
  {
   "cell_type": "code",
   "execution_count": 50,
   "metadata": {},
   "outputs": [
    {
     "name": "stdout",
     "output_type": "stream",
     "text": [
      "epoch 0, loss 29134.333984375\n",
      "epoch 100, loss 3934.77587890625\n",
      "epoch 200, loss 3407.33544921875\n",
      "epoch 300, loss 3194.235595703125\n",
      "epoch 400, loss 3079.431884765625\n",
      "epoch 500, loss 3009.878173828125\n",
      "epoch 600, loss 2965.943603515625\n",
      "epoch 700, loss 2937.672119140625\n",
      "epoch 800, loss 2919.25439453125\n",
      "epoch 900, loss 2907.125\n"
     ]
    }
   ],
   "source": [
    "n_epochs = 1000\n",
    "\n",
    "for epoch in range(n_epochs):\n",
    "    \n",
    "    # convert features and target into PyTorch Variable\n",
    "    inputs = Variable(torch.from_numpy(X).float())\n",
    "    targets = Variable(torch.from_numpy(y).float())\n",
    "\n",
    "    # forward pass\n",
    "    outputs = model.forward(inputs)\n",
    "\n",
    "    # calculate loss (MSE)\n",
    "    loss = criterion(outputs, targets)\n",
    "    \n",
    "    # compute gradients\n",
    "    loss.backward()\n",
    "    \n",
    "    # perform one step in the oposite direction to the gradient (update weights)\n",
    "    optimizer.step()\n",
    "    \n",
    "    # clear gradient values after weights are updated\n",
    "    optimizer.zero_grad()\n",
    "    \n",
    "    if epoch % 100 == 0:\n",
    "        print('epoch {}, loss {}'.format(epoch, loss.item()))"
   ]
  },
  {
   "cell_type": "markdown",
   "metadata": {},
   "source": [
    "### Measure the accuracy"
   ]
  },
  {
   "cell_type": "code",
   "execution_count": 51,
   "metadata": {},
   "outputs": [],
   "source": [
    "# switch to evaluation mode\n",
    "\n",
    "model = model.eval()"
   ]
  },
  {
   "cell_type": "code",
   "execution_count": 52,
   "metadata": {},
   "outputs": [],
   "source": [
    "# predict target variable for the whole dataset\n",
    "\n",
    "with torch.no_grad():\n",
    "    y_pred = model.forward(Variable(torch.from_numpy(X).float()))\n",
    "    y_pred = y_pred.data.numpy()"
   ]
  },
  {
   "cell_type": "code",
   "execution_count": 64,
   "metadata": {},
   "outputs": [
    {
     "data": {
      "text/plain": [
       "numpy.ndarray"
      ]
     },
     "execution_count": 64,
     "metadata": {},
     "output_type": "execute_result"
    }
   ],
   "source": [
    "type(y_pred)"
   ]
  },
  {
   "cell_type": "code",
   "execution_count": 65,
   "metadata": {},
   "outputs": [
    {
     "data": {
      "text/plain": [
       "0.5111118594593538"
      ]
     },
     "execution_count": 65,
     "metadata": {},
     "output_type": "execute_result"
    }
   ],
   "source": [
    "from sklearn.metrics import r2_score\n",
    "\n",
    "# calculate variance score\n",
    "r2_score(y, y_pred)"
   ]
  },
  {
   "cell_type": "markdown",
   "metadata": {},
   "source": [
    "### Task - Logistic Regression "
   ]
  },
  {
   "cell_type": "code",
   "execution_count": 68,
   "metadata": {},
   "outputs": [],
   "source": [
    "data = sk_datasets.load_iris()"
   ]
  },
  {
   "cell_type": "code",
   "execution_count": 69,
   "metadata": {},
   "outputs": [],
   "source": [
    "X = data.data[:]\n",
    "y = data.target[:]"
   ]
  },
  {
   "cell_type": "code",
   "execution_count": 70,
   "metadata": {},
   "outputs": [],
   "source": [
    "# define Neural Network class\n",
    "\n",
    "class LogisticRegression(nn.Module):\n",
    "    def __init__(self, input_size, num_classes):\n",
    "        super(LogisticRegression, self).__init__()\n",
    "        # << YOUR CODE HERE >>\n",
    "    \n",
    "    def forward(self, x):\n",
    "        # << YOUR CODE HERE >>\n",
    "        return # << YOUR CODE HERE >>"
   ]
  },
  {
   "cell_type": "code",
   "execution_count": 71,
   "metadata": {},
   "outputs": [
    {
     "ename": "SyntaxError",
     "evalue": "unexpected EOF while parsing (<ipython-input-71-b2e3a518ffc2>, line 1)",
     "output_type": "error",
     "traceback": [
      "\u001b[0;36m  File \u001b[0;32m\"<ipython-input-71-b2e3a518ffc2>\"\u001b[0;36m, line \u001b[0;32m1\u001b[0m\n\u001b[0;31m    model = LogisticRegression(# << YOUR CODE HERE >>)\u001b[0m\n\u001b[0m                                                      ^\u001b[0m\n\u001b[0;31mSyntaxError\u001b[0m\u001b[0;31m:\u001b[0m unexpected EOF while parsing\n"
     ]
    }
   ],
   "source": [
    "model = LogisticRegression(# << YOUR CODE HERE >>)"
   ]
  },
  {
   "cell_type": "code",
   "execution_count": 72,
   "metadata": {},
   "outputs": [
    {
     "ename": "SyntaxError",
     "evalue": "invalid syntax (<ipython-input-72-2357f39f1d68>, line 3)",
     "output_type": "error",
     "traceback": [
      "\u001b[0;36m  File \u001b[0;32m\"<ipython-input-72-2357f39f1d68>\"\u001b[0;36m, line \u001b[0;32m3\u001b[0m\n\u001b[0;31m    optimizer = # << YOUR CODE HERE >>\u001b[0m\n\u001b[0m                                      ^\u001b[0m\n\u001b[0;31mSyntaxError\u001b[0m\u001b[0;31m:\u001b[0m invalid syntax\n"
     ]
    }
   ],
   "source": [
    "# https://pytorch.org/docs/stable/optim.html\n",
    "\n",
    "optimizer = # << YOUR CODE HERE >>"
   ]
  },
  {
   "cell_type": "code",
   "execution_count": null,
   "metadata": {},
   "outputs": [],
   "source": [
    "# https://pytorch.org/docs/stable/nn.html\n",
    "\n",
    "criterion = # << YOUR CODE HERE >>"
   ]
  },
  {
   "cell_type": "code",
   "execution_count": null,
   "metadata": {},
   "outputs": [],
   "source": [
    "n_epochs = # << YOUR CODE HERE >>\n",
    "\n",
    "for epoch in range(n_epochs):\n",
    "    \n",
    "    # convert features and target into PyTorch Variable\n",
    "    inputs = Variable(torch.from_numpy(X).float())\n",
    "    targets = Variable(torch.from_numpy(y))\n",
    "\n",
    "    # forward pass\n",
    "    outputs = # << YOUR CODE HERE >>\n",
    "    \n",
    "    # convert predicted probabilities to class labels\n",
    "    _, predicted_labels = torch.max(outputs.data, 1)\n",
    "\n",
    "    # calculate loss (Cross-Entropy)\n",
    "    loss = # << YOUR CODE HERE >>\n",
    "    \n",
    "    # calculate number of correctly predicted data points\n",
    "    corrects = torch.sum(predicted_labels == targets.data).item()\n",
    "    \n",
    "    # compute gradients\n",
    "    # << YOUR CODE HERE >>\n",
    "    \n",
    "    # perform one step in the oposite direction to the gradient (update weights)\n",
    "    # << YOUR CODE HERE >>\n",
    "    \n",
    "    # clear gradient values after weights are updated\n",
    "    # << YOUR CODE HERE >>\n",
    "    \n",
    "    if epoch % 100 == 0:\n",
    "        accuracy = corrects / len(X)\n",
    "        print('epoch = {0}, loss = {1:.6f}, accuracy = {2:.3f}'.format(epoch, loss.item(), accuracy))"
   ]
  },
  {
   "cell_type": "markdown",
   "metadata": {},
   "source": [
    "## CNN Intro"
   ]
  },
  {
   "cell_type": "markdown",
   "metadata": {},
   "source": [
    "### How computer sees an image?"
   ]
  },
  {
   "cell_type": "markdown",
   "metadata": {},
   "source": [
    "<center><img src=\"img/image_rgb.png\" width=\"600\" /></center>"
   ]
  },
  {
   "cell_type": "markdown",
   "metadata": {},
   "source": [
    "### Let's say we want to build image classifier using Fully-Connected Neural Network"
   ]
  },
  {
   "cell_type": "markdown",
   "metadata": {},
   "source": [
    "<center><img src=\"img/feed-forward-image-classification.png\" width=\"900\" /></center>"
   ]
  },
  {
   "cell_type": "markdown",
   "metadata": {},
   "source": [
    "#### Main issues with FC networks for image classification:\n",
    "* **huge** number of parameters to learn (more than 17M in previous example)\n",
    "* **not invariant** to small transformations or distortions of the input image\n",
    "* **overfitting** possibility"
   ]
  },
  {
   "cell_type": "markdown",
   "metadata": {},
   "source": [
    "### Convolutional Neural Network"
   ]
  },
  {
   "cell_type": "markdown",
   "metadata": {},
   "source": [
    "* were inspired by biological processes in that the connectivity pattern between neurons resembles the organization of the animal visual cortex."
   ]
  },
  {
   "cell_type": "markdown",
   "metadata": {},
   "source": [
    "<center><img src=\"img/human-visual-cortex.png\" width=\"600\" /></center>"
   ]
  },
  {
   "cell_type": "markdown",
   "metadata": {},
   "source": [
    "* individual cortical neurons respond to stimuli only in a restricted region of the visual field known as the receptive field\n",
    "* the receptive fields of different neurons partially overlap such that they cover the entire visual field."
   ]
  },
  {
   "cell_type": "markdown",
   "metadata": {},
   "source": [
    "#### Quick historical facts"
   ]
  },
  {
   "cell_type": "markdown",
   "metadata": {},
   "source": [
    "* Work by Hubel and Wiesel in the 1950s and 1960s showed that cat and monkey visual cortexes contain neurons that individually respond to small regions of the **visual field**."
   ]
  },
  {
   "cell_type": "markdown",
   "metadata": {},
   "source": [
    "* Kunihiko Fukushima in the 1980s proposed the **neocognitron** - a hierarchical, multilayered artificial neural network used for handwritten character recognition. The neocognitron was inspired by the model proposed by Hubel & Wiesel."
   ]
  },
  {
   "cell_type": "markdown",
   "metadata": {},
   "source": [
    "#### Quick historical facts"
   ]
  },
  {
   "cell_type": "markdown",
   "metadata": {},
   "source": [
    "* LeCun et in 1989, used back-propagation to learn the **convolution kernel** coefficients directly from images of hand-written numbers."
   ]
  },
  {
   "cell_type": "markdown",
   "metadata": {},
   "source": [
    "* In 1998 LeCun developed LeNet-5 - a pioneering 7-level convolutional network."
   ]
  },
  {
   "cell_type": "markdown",
   "metadata": {},
   "source": [
    "<center><img src=\"img/lecun.jpg\" width=\"300\" /></center>"
   ]
  },
  {
   "cell_type": "markdown",
   "metadata": {},
   "source": [
    "* 2012 was the first year that Convolutional Neural Networks grew to prominence as **Alex Krizhevsky** used them to win that year's **ImageNet** competition."
   ]
  },
  {
   "cell_type": "markdown",
   "metadata": {},
   "source": [
    "### Convolutions"
   ]
  },
  {
   "cell_type": "markdown",
   "metadata": {},
   "source": [
    "* **convolution operation**, is an element-wise product and sum between two matrices/vectors - **kernel** or **filter** and part of the **original input** or **image**."
   ]
  },
  {
   "cell_type": "markdown",
   "metadata": {},
   "source": [
    "#### 1D convolution\n",
    "<center><img src=\"img/conv-1d.jpg\" width=\"300\" /></center>"
   ]
  },
  {
   "cell_type": "markdown",
   "metadata": {},
   "source": [
    "#### 2D convolution\n",
    "<center><img src=\"img/conv-before.png\" width=\"400\" /></center>"
   ]
  },
  {
   "cell_type": "markdown",
   "metadata": {},
   "source": [
    "* The **convolution** of the **5x5 image** and the **3x3 kernel** can be computed as shown in the animation:\n",
    "\n",
    "<center><img src=\"img/conv-after-dynamic.gif\" width=\"400\" /></center>"
   ]
  },
  {
   "cell_type": "markdown",
   "metadata": {},
   "source": [
    "* We slide the **kernel** (orange matrix) over our **original image** (green) by 1 pixel (also called **stride**) and for every position and for every position, we compute element wise multiplication (between the two matrices) and add the multiplication outputs.\n",
    "* The **3×3 kernel** observes only a part of the input image in each stride.\n",
    "* **Kernel** acts as **feature detector** from the original input image."
   ]
  },
  {
   "cell_type": "markdown",
   "metadata": {},
   "source": [
    "### Convolution examples\n",
    "\n",
    "<center><img src=\"img/conv-edge-detection.png\" width=\"700\" /></center>"
   ]
  },
  {
   "cell_type": "markdown",
   "metadata": {},
   "source": [
    "### Convolution examples\n",
    "\n",
    "<center><img src=\"img/conv-gaussian-blur.png\" width=\"700\" /></center>"
   ]
  },
  {
   "cell_type": "markdown",
   "metadata": {},
   "source": [
    "### Convolution examples\n",
    "\n",
    "<center><img src=\"img/conv-sharpen.png\" width=\"700\" /></center>"
   ]
  },
  {
   "cell_type": "markdown",
   "metadata": {},
   "source": [
    "### Extracting two feature maps from the image\n",
    "\n",
    "<center><img src=\"img/conv-animation.gif\" width=\"600\" /></center>"
   ]
  },
  {
   "cell_type": "markdown",
   "metadata": {},
   "source": [
    "### Convolution: padding=0, stride=1\n",
    "\n",
    "* Convolution operation over an **4x4 input image** using **3x3 kernel** results in **2x2 feature map**.\n",
    "\n",
    "<center><img src=\"img/conv_no_padding_no_strides.gif\" width=\"300\" /></center>"
   ]
  },
  {
   "cell_type": "markdown",
   "metadata": {},
   "source": [
    "### Convolution: padding=2, stride=1\n",
    "\n",
    "* Convolution operation over an **5x5 input image** using **4x4 kernel** results in **6x6 feature map**.\n",
    "\n",
    "<center><img src=\"img/conv_arbitrary_padding_no_strides.gif\" width=\"300\" /></center>"
   ]
  },
  {
   "cell_type": "markdown",
   "metadata": {},
   "source": [
    "### Convolution characteristics"
   ]
  },
  {
   "cell_type": "markdown",
   "metadata": {},
   "source": [
    "* **Depth**: Depth corresponds to the number of **kernels** we use for the convolution operation. It will determine how many **feature maps** will be produced by the convolution operation. You can think of these three feature maps as **stacked 2D matrices**."
   ]
  },
  {
   "cell_type": "markdown",
   "metadata": {},
   "source": [
    "* **Stride**: Stride is the number of pixels by which we slide our kernel over the input matrix. When the stride is 1 then we move the filters one pixel at a time. When the stride is 2, then the filters jump 2 pixels at a time as we slide them around. Having a **larger stride** will produce **smaller feature maps**."
   ]
  },
  {
   "cell_type": "markdown",
   "metadata": {},
   "source": [
    "* **Zero-padding**: Sometimes, it is convenient to **pad the input matrix with zeros around the border**, so that we can apply the filter to bordering elements of our input image matrix. A nice feature of zero padding is that it allows us to **control the size of the feature maps**."
   ]
  },
  {
   "cell_type": "markdown",
   "metadata": {},
   "source": [
    "### Adding Non-Linearity"
   ]
  },
  {
   "cell_type": "markdown",
   "metadata": {},
   "source": [
    "* Just like in other Neural Networks we add an additional **non-linear transformations** after every **convolution** operation."
   ]
  },
  {
   "cell_type": "markdown",
   "metadata": {},
   "source": [
    "### ReLU\n",
    "\n",
    "* The most commonly used **non-linear transformation** in convolutional neural networks is **ReLU** (Rectified Linear Unit).\n",
    "* ReLU is an element wise operation (applied per pixel) and replaces all negative pixel values in the feature map by zero."
   ]
  },
  {
   "cell_type": "markdown",
   "metadata": {},
   "source": [
    "<center><img src=\"img/relu-chart.png\" width=\"800\" /></center>"
   ]
  },
  {
   "cell_type": "markdown",
   "metadata": {},
   "source": [
    "### ReLU visualization\n",
    "\n",
    "<center><img src=\"img/relu.png\" width=\"800\" /></center>"
   ]
  },
  {
   "cell_type": "markdown",
   "metadata": {},
   "source": [
    "* Other non-linear functions **(tanh, sigmoid)** can also be used instead of **ReLU**, but **ReLU** has been found to perform better in most cases."
   ]
  },
  {
   "cell_type": "markdown",
   "metadata": {},
   "source": [
    "### Pooling"
   ]
  },
  {
   "cell_type": "markdown",
   "metadata": {},
   "source": [
    "* **Spatial Pooling**, also reffered to as **subsampling** or **downsampling** reduces the dimensionality of each feature map but retains the most important information.\n",
    "* There are different types of spatial pooling:\n",
    "    * average\n",
    "    * max\n",
    "    * sum\n",
    "    * etc."
   ]
  },
  {
   "cell_type": "markdown",
   "metadata": {},
   "source": [
    "### Max pooling"
   ]
  },
  {
   "cell_type": "markdown",
   "metadata": {},
   "source": [
    "<center><img src=\"img/max-pooling.png\" width=\"600\" /></center>"
   ]
  },
  {
   "cell_type": "markdown",
   "metadata": {},
   "source": [
    "#### LeNet-5 architecture (1998)\n",
    "\n",
    "<center><img src=\"img/lenet.png\" width=\"900\" /></center>"
   ]
  },
  {
   "cell_type": "markdown",
   "metadata": {},
   "source": [
    "#### AlexNet architecture (2012)\n",
    "\n",
    "<center><img src=\"img/alexnet.png\" width=\"900\" /></center>"
   ]
  },
  {
   "cell_type": "markdown",
   "metadata": {},
   "source": [
    "### Apply filter to the image using convolutions"
   ]
  },
  {
   "cell_type": "code",
   "execution_count": 77,
   "metadata": {},
   "outputs": [],
   "source": [
    "import numpy as np\n",
    "from PIL import Image\n",
    "\n",
    "import torch\n",
    "import torch.nn as nn\n",
    "import torch.nn.functional as F\n",
    "\n",
    "from torchvision import transforms\n",
    "from torch.autograd import Variable"
   ]
  },
  {
   "cell_type": "code",
   "execution_count": 78,
   "metadata": {},
   "outputs": [],
   "source": [
    "img = Image.open('./img/cat.png').convert('LA').resize((256, 256))"
   ]
  },
  {
   "cell_type": "code",
   "execution_count": 79,
   "metadata": {},
   "outputs": [
    {
     "data": {
      "image/png": "[encoded data removed]",
      "text/plain": [
       "<PIL.Image.Image image mode=LA size=256x256 at 0x1A21D71F28>"
      ]
     },
     "execution_count": 79,
     "metadata": {},
     "output_type": "execute_result"
    }
   ],
   "source": [
    "img"
   ]
  },
  {
   "cell_type": "code",
   "execution_count": 80,
   "metadata": {},
   "outputs": [],
   "source": [
    "to_tensor = transforms.Compose([transforms.ToTensor()])\n",
    "to_pil = transforms.Compose([transforms.ToPILImage()])"
   ]
  },
  {
   "cell_type": "code",
   "execution_count": 81,
   "metadata": {},
   "outputs": [],
   "source": [
    "img_tensor = torch.unbind(to_tensor(img))\n",
    "img_tensor = img_tensor[0].unsqueeze(0).unsqueeze(0)"
   ]
  },
  {
   "cell_type": "code",
   "execution_count": 82,
   "metadata": {},
   "outputs": [],
   "source": [
    "kernel = np.array([\n",
    "    [-1,  -1,  -1],\n",
    "    [-1,  +8,  -1],\n",
    "    [-1,  -1, -1]\n",
    "])"
   ]
  },
  {
   "cell_type": "code",
   "execution_count": 83,
   "metadata": {},
   "outputs": [],
   "source": [
    "conv1 = nn.Conv2d(1, 1, kernel_size=(3, 3), stride=1, padding=1, bias=False)\n",
    "conv1.weight = nn.Parameter(torch.from_numpy(kernel).float().unsqueeze(0).unsqueeze(0))"
   ]
  },
  {
   "cell_type": "code",
   "execution_count": 84,
   "metadata": {},
   "outputs": [],
   "source": [
    "img_edges = conv1(Variable(img_tensor)).data.view(1, 256, 256)"
   ]
  },
  {
   "cell_type": "code",
   "execution_count": 85,
   "metadata": {},
   "outputs": [
    {
     "data": {
      "image/png": "[encoded data removed]",
      "text/plain": [
       "<PIL.Image.Image image mode=L size=256x256 at 0x1A220D0668>"
      ]
     },
     "execution_count": 85,
     "metadata": {},
     "output_type": "execute_result"
    }
   ],
   "source": [
    "to_pil(img_edges)"
   ]
  },
  {
   "cell_type": "markdown",
   "metadata": {},
   "source": [
    "### Let's build an image classifier"
   ]
  },
  {
   "cell_type": "markdown",
   "metadata": {},
   "source": [
    "### Dataset - MNIST"
   ]
  },
  {
   "cell_type": "markdown",
   "metadata": {},
   "source": [
    "* large database of handwritten digits\n",
    "* contains 60,000 training images and 10,000 testing images\n",
    "* contains digits from 0 to 9\n",
    "* consit of images of size 28x28 pixel\n",
    "* http://yann.lecun.com/exdb/mnist/"
   ]
  },
  {
   "cell_type": "markdown",
   "metadata": {},
   "source": [
    "<center><img src=\"img/mnist.jpeg\" width=\"600\" /></center>"
   ]
  },
  {
   "cell_type": "markdown",
   "metadata": {},
   "source": [
    "### Fully-connected Neural Network"
   ]
  },
  {
   "cell_type": "code",
   "execution_count": 88,
   "metadata": {},
   "outputs": [],
   "source": [
    "import torch\n",
    "import torch.nn as nn\n",
    "import torch.optim as optim\n",
    "import torch.nn.functional as F\n",
    "from torch.autograd import Variable"
   ]
  },
  {
   "cell_type": "code",
   "execution_count": 89,
   "metadata": {},
   "outputs": [],
   "source": [
    "from torchvision import datasets\n",
    "import torchvision.transforms as transforms"
   ]
  },
  {
   "cell_type": "code",
   "execution_count": 90,
   "metadata": {},
   "outputs": [],
   "source": [
    "transformations = transforms.Compose([transforms.ToTensor()])"
   ]
  },
  {
   "cell_type": "code",
   "execution_count": 91,
   "metadata": {},
   "outputs": [],
   "source": [
    "train_set = datasets.MNIST(root='./data', train=True, transform=transformations, download=True)\n",
    "test_set  = datasets.MNIST(root='./data', train=False, transform=transformations, download=True)"
   ]
  },
  {
   "cell_type": "code",
   "execution_count": 92,
   "metadata": {},
   "outputs": [],
   "source": [
    "batch_size = 100"
   ]
  },
  {
   "cell_type": "code",
   "execution_count": 93,
   "metadata": {},
   "outputs": [],
   "source": [
    "train_set_loader = torch.utils.data.DataLoader(\n",
    "    dataset=train_set,\n",
    "    batch_size=batch_size,\n",
    "    shuffle=False\n",
    ")"
   ]
  },
  {
   "cell_type": "code",
   "execution_count": 94,
   "metadata": {},
   "outputs": [],
   "source": [
    "test_set_loader = torch.utils.data.DataLoader(\n",
    "    dataset=test_set,\n",
    "    batch_size=batch_size,\n",
    "    shuffle=False\n",
    ")"
   ]
  },
  {
   "cell_type": "code",
   "execution_count": 97,
   "metadata": {},
   "outputs": [],
   "source": [
    "class FullyConnectedClassifier(nn.Module):\n",
    "    \n",
    "    def __init__(self, input_size, output_size):\n",
    "    \n",
    "        super(FullyConnectedClassifier, self).__init__()\n",
    "\n",
    "        self.fc1 = nn.Linear(input_size, 512)      # 1st hidden layer - 512 neurons\n",
    "        self.fc2 = nn.Linear(512, 256)             # 2nd hidden layer - 256 neurons\n",
    "        self.fc3 = nn.Linear(256, output_size)     # output layer     - 10 classes\n",
    "        \n",
    "    def forward(self, x):\n",
    "\n",
    "        # flatten 2D grayscale image to a vector of 784 elements\n",
    "        x = x.view(-1, 28*28)\n",
    "        \n",
    "        # 1st hidden layer (fully-connected)\n",
    "        x = self.fc1(x)\n",
    "        \n",
    "        # apply non-linear transformation - sigmoid\n",
    "        x = torch.sigmoid(x)\n",
    "\n",
    "        # 2nd hidden layer (fully-connected)        \n",
    "        x = self.fc2(x)\n",
    "        \n",
    "        # apply non-linear transformation - sigmoid\n",
    "        x = torch.sigmoid(x)\n",
    "\n",
    "        # final output layer (fully-connected)\n",
    "        x = self.fc3(x)\n",
    "\n",
    "        # return final result\n",
    "        return x"
   ]
  },
  {
   "cell_type": "code",
   "execution_count": 98,
   "metadata": {},
   "outputs": [],
   "source": [
    "model = FullyConnectedClassifier(28*28, 10)"
   ]
  },
  {
   "cell_type": "code",
   "execution_count": 99,
   "metadata": {},
   "outputs": [],
   "source": [
    "optimizer = optim.SGD(model.parameters(), lr=0.01, momentum=0.9)"
   ]
  },
  {
   "cell_type": "code",
   "execution_count": 100,
   "metadata": {},
   "outputs": [],
   "source": [
    "criterion = nn.CrossEntropyLoss()"
   ]
  },
  {
   "cell_type": "code",
   "execution_count": 101,
   "metadata": {},
   "outputs": [
    {
     "name": "stdout",
     "output_type": "stream",
     "text": [
      "=> epoch: 1, train loss: 0.022289\n",
      "=> epoch: 1, test loss: 0.018840, accuracy: 0.445 \n",
      "\n",
      "=> epoch: 2, train loss: 0.011348\n",
      "=> epoch: 2, test loss: 0.007218, accuracy: 0.783 \n",
      "\n",
      "=> epoch: 3, train loss: 0.005924\n",
      "=> epoch: 3, test loss: 0.004932, accuracy: 0.850 \n",
      "\n",
      "=> epoch: 4, train loss: 0.004538\n",
      "=> epoch: 4, test loss: 0.004123, accuracy: 0.878 \n",
      "\n",
      "=> epoch: 5, train loss: 0.003978\n",
      "=> epoch: 5, test loss: 0.003742, accuracy: 0.889 \n",
      "\n",
      "=> epoch: 6, train loss: 0.003691\n",
      "=> epoch: 6, test loss: 0.003517, accuracy: 0.896 \n",
      "\n",
      "=> epoch: 7, train loss: 0.003508\n",
      "=> epoch: 7, test loss: 0.003357, accuracy: 0.902 \n",
      "\n",
      "=> epoch: 8, train loss: 0.003366\n",
      "=> epoch: 8, test loss: 0.003227, accuracy: 0.906 \n",
      "\n",
      "=> epoch: 9, train loss: 0.003244\n",
      "=> epoch: 9, test loss: 0.003112, accuracy: 0.909 \n",
      "\n",
      "=> epoch: 10, train loss: 0.003132\n",
      "=> epoch: 10, test loss: 0.003008, accuracy: 0.911 \n",
      "\n"
     ]
    }
   ],
   "source": [
    "n_epochs = 10\n",
    "\n",
    "for epoch in range(1, n_epochs+1):\n",
    "\n",
    "    # swith to train mode\n",
    "    model = model.train()\n",
    "    \n",
    "    # global statistics\n",
    "    running_train_loss = 0.\n",
    "    \n",
    "    for batch_idx, (inputs, targets) in enumerate(train_set_loader, start=1):\n",
    "\n",
    "        # convert tensor to autograd.Variable\n",
    "        inputs, targets = Variable(inputs), Variable(targets)\n",
    "\n",
    "        # forward pass\n",
    "        predictions = model.forward(inputs)\n",
    "\n",
    "        # calculate loss - cross-entropy\n",
    "        loss = criterion(predictions, targets)\n",
    "        \n",
    "        # accumulate loss\n",
    "        running_train_loss += loss.item()\n",
    "\n",
    "        # compute gradients\n",
    "        loss.backward()\n",
    "        \n",
    "        # update weights based on calculated gradients\n",
    "        optimizer.step()\n",
    "\n",
    "        # clear all gradients after weights are updated\n",
    "        optimizer.zero_grad()\n",
    "\n",
    "    # print epoch statistics    \n",
    "    epoch_train_loss = running_train_loss / len(train_set_loader.dataset)\n",
    "    print('=> epoch: %d, train loss: %.6f' % (epoch, epoch_train_loss))\n",
    "        \n",
    "    # switch to evaluation/test mode\n",
    "    model = model.eval()\n",
    "\n",
    "    # global statistics\n",
    "    running_test_loss = 0.\n",
    "    running_test_corrects = 0.\n",
    "\n",
    "    # disable calculation of gradients\n",
    "    with torch.no_grad():\n",
    "\n",
    "        for batch_idx, (inputs, targets) in enumerate(test_set_loader, start=1):\n",
    "\n",
    "            # convert tensor to autograd.Variable\n",
    "            inputs, targets = Variable(inputs), Variable(targets)\n",
    "            \n",
    "            # forward pass - make predictions\n",
    "            predictions = model.forward(inputs)\n",
    "\n",
    "            # calculate loss\n",
    "            loss = criterion(predictions, targets)\n",
    "\n",
    "            # convert probability to a predicted label\n",
    "            _, prediction_labels = torch.max(predictions.data, 1)\n",
    "            \n",
    "            # calculate how many digits in the batch where predicted correctly\n",
    "            running_test_corrects += torch.sum(prediction_labels == targets.data).item()\n",
    "\n",
    "            # accumulate loss\n",
    "            running_test_loss += loss.item()\n",
    "\n",
    "    # print epoch statistics    \n",
    "    epoch_test_loss = running_test_loss / len(test_set_loader.dataset)\n",
    "    epoch_test_accuracy = running_test_corrects / len(test_set_loader.dataset)\n",
    "    print('=> epoch: %d, test loss: %.6f, accuracy: %.3f \\n' % (epoch, epoch_test_loss, epoch_test_accuracy))"
   ]
  },
  {
   "cell_type": "code",
   "execution_count": 110,
   "metadata": {},
   "outputs": [
    {
     "name": "stdout",
     "output_type": "stream",
     "text": [
      "Files already downloaded and verified\n",
      "Files already downloaded and verified\n"
     ]
    }
   ],
   "source": [
    "train_set = datasets.CIFAR10(root='./data', train=True, transform=transformations, download=True)\n",
    "test_set  = datasets.CIFAR10(root='./data', train=False, transform=transformations, download=True)"
   ]
  },
  {
   "cell_type": "code",
   "execution_count": 103,
   "metadata": {},
   "outputs": [],
   "source": [
    "train_set = datasets.MNIST(root='./data', train=True, transform=transformations, download=True)\n",
    "test_set  = datasets.MNIST(root='./data', train=False, transform=transformations, download=True)"
   ]
  },
  {
   "cell_type": "code",
   "execution_count": 104,
   "metadata": {},
   "outputs": [],
   "source": [
    "# number of images to process per batch\n",
    "\n",
    "batch_size = 64"
   ]
  },
  {
   "cell_type": "code",
   "execution_count": 105,
   "metadata": {},
   "outputs": [],
   "source": [
    "# load train set\n",
    "\n",
    "train_set_loader = torch.utils.data.DataLoader(\n",
    "    dataset=train_set,\n",
    "    batch_size=batch_size,\n",
    "    shuffle=False\n",
    ")"
   ]
  },
  {
   "cell_type": "code",
   "execution_count": 106,
   "metadata": {},
   "outputs": [],
   "source": [
    "# load test set\n",
    "\n",
    "test_set_loader = torch.utils.data.DataLoader(\n",
    "    dataset=test_set,\n",
    "    batch_size=batch_size,\n",
    "    shuffle=False\n",
    ")"
   ]
  },
  {
   "cell_type": "markdown",
   "metadata": {},
   "source": [
    "<center><img src=\"img/lenet.png\"></center>"
   ]
  },
  {
   "cell_type": "code",
   "execution_count": null,
   "metadata": {},
   "outputs": [],
   "source": [
    "class LeNet(nn.Module):\n",
    "    \n",
    "    \"\"\"\n",
    "    input - 3x32x32\n",
    "    C1 - convolution 6@28x28 (5x5 kernel)\n",
    "    ReLU activation\n",
    "    S2 - max pooling 6@14x14 (2x2 kernel, stride 2)\n",
    "\n",
    "    C3 - convolution 16@10x10 (5x5 kernel)\n",
    "    ReLU activation\n",
    "    S4 - max pooling 16@5x5 (2x2 kernel, stride 2)\n",
    "\n",
    "    C5 - convolution 120@1x1 (5x5 kernel)\n",
    "    \n",
    "    F6 - fully-connected layear, 120 neurons\n",
    "    F7 - fully-connected layear, 84 neurons\n",
    "    ReLU activation\n",
    "    \n",
    "    F8 - 10 neurons (output)\n",
    "    \"\"\"\n",
    "        \n",
    "    def __init__(self):\n",
    "        \n",
    "        super(LeNet, self).__init__()\n",
    "        # << YOUR CODE HERE >>\n",
    "\n",
    "    def forward(self, x):\n",
    "        # << YOUR CODE HERE >>\n",
    "        \n",
    "        return # << YOUR CODE HERE >>"
   ]
  },
  {
   "cell_type": "code",
   "execution_count": 108,
   "metadata": {},
   "outputs": [
    {
     "ename": "NameError",
     "evalue": "name 'LeNet' is not defined",
     "output_type": "error",
     "traceback": [
      "\u001b[0;31m---------------------------------------------------------------------------\u001b[0m",
      "\u001b[0;31mNameError\u001b[0m                                 Traceback (most recent call last)",
      "\u001b[0;32m<ipython-input-108-dee8ab9b1d84>\u001b[0m in \u001b[0;36m<module>\u001b[0;34m\u001b[0m\n\u001b[0;32m----> 1\u001b[0;31m \u001b[0mmodel\u001b[0m \u001b[0;34m=\u001b[0m \u001b[0mLeNet\u001b[0m\u001b[0;34m(\u001b[0m\u001b[0;34m)\u001b[0m\u001b[0;34m\u001b[0m\u001b[0m\n\u001b[0m",
      "\u001b[0;31mNameError\u001b[0m: name 'LeNet' is not defined"
     ]
    }
   ],
   "source": [
    "model = LeNet()"
   ]
  },
  {
   "cell_type": "code",
   "execution_count": null,
   "metadata": {},
   "outputs": [],
   "source": [
    "optimizer = # << YOUR CODE HERE >>"
   ]
  },
  {
   "cell_type": "code",
   "execution_count": null,
   "metadata": {},
   "outputs": [],
   "source": [
    "criterion = nn.CrossEntropyLoss()"
   ]
  },
  {
   "cell_type": "code",
   "execution_count": null,
   "metadata": {},
   "outputs": [],
   "source": [
    "n_epochs = 10\n",
    "\n",
    "for epoch in range(1, n_epochs+1):\n",
    "\n",
    "    # swith to train mode\n",
    "    model = model.train()\n",
    "    \n",
    "    # global statistics\n",
    "    running_train_loss = 0.\n",
    "    \n",
    "    for batch_idx, (inputs, targets) in enumerate(train_set_loader, start=1):\n",
    "\n",
    "        # convert tensor to autograd.Variable\n",
    "        inputs, targets = Variable(inputs), Variable(targets)\n",
    "\n",
    "        # forward pass\n",
    "        predictions = model.forward(inputs)\n",
    "\n",
    "        # calculate loss - cross-entropy\n",
    "        loss = # << YOUR CODE HERE >>\n",
    "        \n",
    "        # accumulate loss\n",
    "        running_train_loss += loss.item()\n",
    "\n",
    "        # compute gradients\n",
    "        # << YOUR CODE HERE >>\n",
    "        \n",
    "        # update weights based on calculated gradients\n",
    "        # << YOUR CODE HERE >>\n",
    "\n",
    "        # clear all gradients after weights are updated\n",
    "        # << YOUR CODE HERE >>\n",
    "\n",
    "    # print epoch statistics    \n",
    "    epoch_train_loss = running_train_loss / len(train_set_loader.dataset)\n",
    "    print('=> epoch: %d, train loss: %.6f' % (epoch, epoch_train_loss))\n",
    "        \n",
    "    # switch to evaluation/test mode\n",
    "    model = model.eval()\n",
    "\n",
    "    # global statistics\n",
    "    running_test_loss = 0.\n",
    "    running_test_corrects = 0.\n",
    "\n",
    "    # disable calculation of gradients\n",
    "    with torch.no_grad():\n",
    "\n",
    "        for batch_idx, (inputs, targets) in enumerate(test_set_loader, start=1):\n",
    "\n",
    "            # convert tensor to autograd.Variable\n",
    "            inputs, targets = Variable(inputs), Variable(targets)\n",
    "            \n",
    "            # forward pass - make predictions\n",
    "            predictions = # << YOUR CODE HERE >>\n",
    "\n",
    "            # calculate loss\n",
    "            loss = # << YOUR CODE HERE >>\n",
    "\n",
    "            # convert probability to a predicted label\n",
    "            _, prediction_labels = torch.max(predictions.data, 1)\n",
    "            \n",
    "            # calculate how many digits in the batch where predicted correctly\n",
    "            running_test_corrects += torch.sum(prediction_labels == targets.data).item()\n",
    "\n",
    "            # accumulate loss\n",
    "            running_test_loss += loss.item()\n",
    "\n",
    "    # print epoch statistics    \n",
    "    epoch_test_loss = running_test_loss / len(test_set_loader.dataset)\n",
    "    epoch_test_accuracy = running_test_corrects / len(test_set_loader.dataset)\n",
    "    print('=> epoch: %d, test loss: %.6f, accuracy: %.3f \\n' % (epoch, epoch_test_loss, epoch_test_accuracy))"
   ]
  }
 ],
 "metadata": {
  "kernelspec": {
   "display_name": "Python 3",
   "language": "python",
   "name": "python3"
  },
  "language_info": {
   "codemirror_mode": {
    "name": "ipython",
    "version": 3
   },
   "file_extension": ".py",
   "mimetype": "text/x-python",
   "name": "python",
   "nbconvert_exporter": "python",
   "pygments_lexer": "ipython3",
   "version": "3.6.6"
  }
 },
 "nbformat": 4,
 "nbformat_minor": 2
}
